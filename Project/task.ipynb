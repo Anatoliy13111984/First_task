{
 "cells": [
  {
   "cell_type": "code",
   "execution_count": 2,
   "metadata": {},
   "outputs": [
    {
     "name": "stdout",
     "output_type": "stream",
     "text": [
      "Ваш алгоритм угадывает число в среднем за: 6 попыток\n"
     ]
    }
   ],
   "source": [
    "import numpy as np\n",
    "\n",
    "def game_core_v3(number: int = np.random.randint(1, 101)) -> int:\n",
    "    \"\"\" функция должна угадывать число меньше,чем за 20 попыток!\n",
    "    Args:\n",
    "        number (int, optional): Загаданное число. Defaults to 1.\n",
    "\n",
    "    Returns:\n",
    "        int: Число попыток\n",
    "    \"\"\"\n",
    "    count = 0 # счетчик попыток\n",
    "    predict_number = np.random.randint(1, 101, ) # предлагаемое число, которое нужно угадать\n",
    "    low = 0 # диапазон возможных заначений для угадывания нужного числа\n",
    "    high = 100\n",
    "    \n",
    "    while True:\n",
    "        count += 1\n",
    "        if  predict_number > number:\n",
    "            high = predict_number - 1\n",
    "            predict_number = (high + low) // 2\n",
    "        elif predict_number < number:\n",
    "            low = predict_number + 1\n",
    "            predict_number = (high + low) // 2\n",
    "        else:\n",
    "            break\n",
    "    return count\n",
    "\n",
    "def score_game(game_core_v3) -> int:\n",
    "    \"\"\" за какое количество попыток в сруднем за 1000 подходов алгоритм угадывает число\n",
    "\n",
    "    Args:\n",
    "        game_core_v3 ([type]): функция угадывания \n",
    "\n",
    "    Returns:\n",
    "        int: среднее количество попыток\n",
    "    \"\"\"\n",
    "    count_ls = []\n",
    "    np.random.seed(1) # фиксируем сид для воспроизводимости\n",
    "    random_array = np.random.randint(1, 101, size=(1000)) # загадали список чисел\n",
    "\n",
    "    for number in random_array:\n",
    "        count_ls.append(game_core_v3(number))\n",
    "\n",
    "    score = int(np.mean(count_ls)) # находим среднее количество попыток\n",
    "\n",
    "    print(f'Ваш алгоритм угадывает число в среднем за: {score} попыток')\n",
    "    return(score)\n",
    "\n",
    "if __name__ == \"__main__\":\n",
    "    score_game(game_core_v3)\n"
   ]
  }
 ],
 "metadata": {
  "kernelspec": {
   "display_name": "Python 3",
   "language": "python",
   "name": "python3"
  },
  "language_info": {
   "codemirror_mode": {
    "name": "ipython",
    "version": 3
   },
   "file_extension": ".py",
   "mimetype": "text/x-python",
   "name": "python",
   "nbconvert_exporter": "python",
   "pygments_lexer": "ipython3",
   "version": "3.9.10"
  },
  "orig_nbformat": 4
 },
 "nbformat": 4,
 "nbformat_minor": 2
}
